{
 "cells": [
  {
   "cell_type": "code",
   "execution_count": 1,
   "metadata": {},
   "outputs": [],
   "source": [
    "import pandas as pd"
   ]
  },
  {
   "cell_type": "code",
   "execution_count": 2,
   "metadata": {},
   "outputs": [],
   "source": [
    "df = pd.read_csv('appliances.csv')"
   ]
  },
  {
   "cell_type": "code",
   "execution_count": 3,
   "metadata": {},
   "outputs": [
    {
     "data": {
      "text/html": [
       "<div>\n",
       "<style scoped>\n",
       "    .dataframe tbody tr th:only-of-type {\n",
       "        vertical-align: middle;\n",
       "    }\n",
       "\n",
       "    .dataframe tbody tr th {\n",
       "        vertical-align: top;\n",
       "    }\n",
       "\n",
       "    .dataframe thead th {\n",
       "        text-align: right;\n",
       "    }\n",
       "</style>\n",
       "<table border=\"1\" class=\"dataframe\">\n",
       "  <thead>\n",
       "    <tr style=\"text-align: right;\">\n",
       "      <th></th>\n",
       "      <th>name</th>\n",
       "      <th>main_category</th>\n",
       "      <th>sub_category</th>\n",
       "      <th>image</th>\n",
       "      <th>link</th>\n",
       "      <th>ratings</th>\n",
       "      <th>no_of_ratings</th>\n",
       "      <th>discount_price</th>\n",
       "      <th>actual_price</th>\n",
       "    </tr>\n",
       "  </thead>\n",
       "  <tbody>\n",
       "    <tr>\n",
       "      <th>0</th>\n",
       "      <td>Pigeon by Stovekraft Amaze Plus Electric Kettl...</td>\n",
       "      <td>appliances</td>\n",
       "      <td>All Appliances</td>\n",
       "      <td>https://m.media-amazon.com/images/W/IMAGERENDE...</td>\n",
       "      <td>https://www.amazon.in/Pigeon-Amaze-Plus-1-5-Lt...</td>\n",
       "      <td>3.9</td>\n",
       "      <td>128,941</td>\n",
       "      <td>₹599</td>\n",
       "      <td>₹1,245</td>\n",
       "    </tr>\n",
       "    <tr>\n",
       "      <th>1</th>\n",
       "      <td>Pigeon Polypropylene Mini Handy and Compact Ch...</td>\n",
       "      <td>appliances</td>\n",
       "      <td>All Appliances</td>\n",
       "      <td>https://m.media-amazon.com/images/W/IMAGERENDE...</td>\n",
       "      <td>https://www.amazon.in/Pigeon-Stovekraft-Plasti...</td>\n",
       "      <td>4.1</td>\n",
       "      <td>274,505</td>\n",
       "      <td>₹199</td>\n",
       "      <td>₹545</td>\n",
       "    </tr>\n",
       "    <tr>\n",
       "      <th>2</th>\n",
       "      <td>Glun Multipurpose Portable Electronic Digital ...</td>\n",
       "      <td>appliances</td>\n",
       "      <td>All Appliances</td>\n",
       "      <td>https://m.media-amazon.com/images/W/IMAGERENDE...</td>\n",
       "      <td>https://www.amazon.in/Multipurpose-Portable-El...</td>\n",
       "      <td>3.8</td>\n",
       "      <td>365</td>\n",
       "      <td>₹199</td>\n",
       "      <td>₹899</td>\n",
       "    </tr>\n",
       "    <tr>\n",
       "      <th>3</th>\n",
       "      <td>beatXP Kitchen Scale Multipurpose Portable Ele...</td>\n",
       "      <td>appliances</td>\n",
       "      <td>All Appliances</td>\n",
       "      <td>https://m.media-amazon.com/images/W/IMAGERENDE...</td>\n",
       "      <td>https://www.amazon.in/beatXP-Multipurpose-Port...</td>\n",
       "      <td>3.7</td>\n",
       "      <td>3,290</td>\n",
       "      <td>₹299</td>\n",
       "      <td>₹1,999</td>\n",
       "    </tr>\n",
       "    <tr>\n",
       "      <th>4</th>\n",
       "      <td>Bajaj DX-6 1000W Dry Iron with Advance Solepla...</td>\n",
       "      <td>appliances</td>\n",
       "      <td>All Appliances</td>\n",
       "      <td>https://m.media-amazon.com/images/W/IMAGERENDE...</td>\n",
       "      <td>https://www.amazon.in/Bajaj-Majesty-1000-Watt-...</td>\n",
       "      <td>4.2</td>\n",
       "      <td>24,380</td>\n",
       "      <td>₹625</td>\n",
       "      <td>₹1,400</td>\n",
       "    </tr>\n",
       "  </tbody>\n",
       "</table>\n",
       "</div>"
      ],
      "text/plain": [
       "                                                name main_category  \\\n",
       "0  Pigeon by Stovekraft Amaze Plus Electric Kettl...    appliances   \n",
       "1  Pigeon Polypropylene Mini Handy and Compact Ch...    appliances   \n",
       "2  Glun Multipurpose Portable Electronic Digital ...    appliances   \n",
       "3  beatXP Kitchen Scale Multipurpose Portable Ele...    appliances   \n",
       "4  Bajaj DX-6 1000W Dry Iron with Advance Solepla...    appliances   \n",
       "\n",
       "     sub_category                                              image  \\\n",
       "0  All Appliances  https://m.media-amazon.com/images/W/IMAGERENDE...   \n",
       "1  All Appliances  https://m.media-amazon.com/images/W/IMAGERENDE...   \n",
       "2  All Appliances  https://m.media-amazon.com/images/W/IMAGERENDE...   \n",
       "3  All Appliances  https://m.media-amazon.com/images/W/IMAGERENDE...   \n",
       "4  All Appliances  https://m.media-amazon.com/images/W/IMAGERENDE...   \n",
       "\n",
       "                                                link ratings no_of_ratings  \\\n",
       "0  https://www.amazon.in/Pigeon-Amaze-Plus-1-5-Lt...     3.9       128,941   \n",
       "1  https://www.amazon.in/Pigeon-Stovekraft-Plasti...     4.1       274,505   \n",
       "2  https://www.amazon.in/Multipurpose-Portable-El...     3.8           365   \n",
       "3  https://www.amazon.in/beatXP-Multipurpose-Port...     3.7         3,290   \n",
       "4  https://www.amazon.in/Bajaj-Majesty-1000-Watt-...     4.2        24,380   \n",
       "\n",
       "  discount_price actual_price  \n",
       "0           ₹599       ₹1,245  \n",
       "1           ₹199         ₹545  \n",
       "2           ₹199         ₹899  \n",
       "3           ₹299       ₹1,999  \n",
       "4           ₹625       ₹1,400  "
      ]
     },
     "execution_count": 3,
     "metadata": {},
     "output_type": "execute_result"
    }
   ],
   "source": [
    "df.head()"
   ]
  },
  {
   "cell_type": "code",
   "execution_count": 6,
   "metadata": {},
   "outputs": [
    {
     "data": {
      "text/html": [
       "<div>\n",
       "<style scoped>\n",
       "    .dataframe tbody tr th:only-of-type {\n",
       "        vertical-align: middle;\n",
       "    }\n",
       "\n",
       "    .dataframe tbody tr th {\n",
       "        vertical-align: top;\n",
       "    }\n",
       "\n",
       "    .dataframe thead th {\n",
       "        text-align: right;\n",
       "    }\n",
       "</style>\n",
       "<table border=\"1\" class=\"dataframe\">\n",
       "  <thead>\n",
       "    <tr style=\"text-align: right;\">\n",
       "      <th></th>\n",
       "      <th>name</th>\n",
       "      <th>main_category</th>\n",
       "      <th>sub_category</th>\n",
       "      <th>image</th>\n",
       "      <th>link</th>\n",
       "      <th>ratings</th>\n",
       "      <th>no_of_ratings</th>\n",
       "      <th>discount_price</th>\n",
       "      <th>actual_price</th>\n",
       "    </tr>\n",
       "  </thead>\n",
       "  <tbody>\n",
       "    <tr>\n",
       "      <th>count</th>\n",
       "      <td>9576</td>\n",
       "      <td>9576</td>\n",
       "      <td>9576</td>\n",
       "      <td>9576</td>\n",
       "      <td>9576</td>\n",
       "      <td>9098</td>\n",
       "      <td>9098</td>\n",
       "      <td>9214</td>\n",
       "      <td>9485</td>\n",
       "    </tr>\n",
       "    <tr>\n",
       "      <th>unique</th>\n",
       "      <td>8595</td>\n",
       "      <td>1</td>\n",
       "      <td>1</td>\n",
       "      <td>8853</td>\n",
       "      <td>9576</td>\n",
       "      <td>42</td>\n",
       "      <td>2037</td>\n",
       "      <td>2410</td>\n",
       "      <td>1835</td>\n",
       "    </tr>\n",
       "    <tr>\n",
       "      <th>top</th>\n",
       "      <td>Activated Carbon Faucet Water Filters Universa...</td>\n",
       "      <td>appliances</td>\n",
       "      <td>All Appliances</td>\n",
       "      <td>https://m.media-amazon.com/images/I/51JFb7FctD...</td>\n",
       "      <td>https://www.amazon.in/Haier-Semi-Automatic-Loa...</td>\n",
       "      <td>4.1</td>\n",
       "      <td>1</td>\n",
       "      <td>₹499</td>\n",
       "      <td>₹999</td>\n",
       "    </tr>\n",
       "    <tr>\n",
       "      <th>freq</th>\n",
       "      <td>6</td>\n",
       "      <td>9576</td>\n",
       "      <td>9576</td>\n",
       "      <td>7</td>\n",
       "      <td>1</td>\n",
       "      <td>1058</td>\n",
       "      <td>327</td>\n",
       "      <td>352</td>\n",
       "      <td>799</td>\n",
       "    </tr>\n",
       "  </tbody>\n",
       "</table>\n",
       "</div>"
      ],
      "text/plain": [
       "                                                     name main_category  \\\n",
       "count                                                9576          9576   \n",
       "unique                                               8595             1   \n",
       "top     Activated Carbon Faucet Water Filters Universa...    appliances   \n",
       "freq                                                    6          9576   \n",
       "\n",
       "          sub_category                                              image  \\\n",
       "count             9576                                               9576   \n",
       "unique               1                                               8853   \n",
       "top     All Appliances  https://m.media-amazon.com/images/I/51JFb7FctD...   \n",
       "freq              9576                                                  7   \n",
       "\n",
       "                                                     link ratings  \\\n",
       "count                                                9576    9098   \n",
       "unique                                               9576      42   \n",
       "top     https://www.amazon.in/Haier-Semi-Automatic-Loa...     4.1   \n",
       "freq                                                    1    1058   \n",
       "\n",
       "       no_of_ratings discount_price actual_price  \n",
       "count           9098           9214         9485  \n",
       "unique          2037           2410         1835  \n",
       "top                1           ₹499         ₹999  \n",
       "freq             327            352          799  "
      ]
     },
     "execution_count": 6,
     "metadata": {},
     "output_type": "execute_result"
    }
   ],
   "source": [
    "df.describe()"
   ]
  },
  {
   "cell_type": "code",
   "execution_count": 9,
   "metadata": {},
   "outputs": [
    {
     "data": {
      "text/plain": [
       "Index(['name', 'main_category', 'sub_category', 'image', 'link', 'ratings',\n",
       "       'no_of_ratings', 'discount_price', 'actual_price'],\n",
       "      dtype='object')"
      ]
     },
     "execution_count": 9,
     "metadata": {},
     "output_type": "execute_result"
    }
   ],
   "source": [
    "df.columns"
   ]
  },
  {
   "cell_type": "code",
   "execution_count": 12,
   "metadata": {},
   "outputs": [
    {
     "data": {
      "text/plain": [
       "['name',\n",
       " 'main_category',\n",
       " 'sub_category',\n",
       " 'image',\n",
       " 'link',\n",
       " 'ratings',\n",
       " 'no_of_ratings',\n",
       " 'discount_price',\n",
       " 'actual_price']"
      ]
     },
     "execution_count": 12,
     "metadata": {},
     "output_type": "execute_result"
    }
   ],
   "source": [
    "# extract all columns store it in a list\n",
    "columns = df.columns.tolist()\n",
    "columns\n"
   ]
  },
  {
   "cell_type": "code",
   "execution_count": null,
   "metadata": {},
   "outputs": [],
   "source": []
  }
 ],
 "metadata": {
  "kernelspec": {
   "display_name": "env",
   "language": "python",
   "name": "python3"
  },
  "language_info": {
   "codemirror_mode": {
    "name": "ipython",
    "version": 3
   },
   "file_extension": ".py",
   "mimetype": "text/x-python",
   "name": "python",
   "nbconvert_exporter": "python",
   "pygments_lexer": "ipython3",
   "version": "3.11.7"
  }
 },
 "nbformat": 4,
 "nbformat_minor": 2
}
